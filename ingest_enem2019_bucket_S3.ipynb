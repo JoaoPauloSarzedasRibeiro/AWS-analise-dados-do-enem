{
 "cells": [
  {
   "cell_type": "code",
   "execution_count": 1,
   "metadata": {},
   "outputs": [],
   "source": [
    "#Importando boto3 para fazer a ingestão de dados no bucket\n",
    "import boto3"
   ]
  },
  {
   "cell_type": "code",
   "execution_count": 2,
   "metadata": {},
   "outputs": [],
   "source": [
    "#Criando um client no boto3 para interagir\n",
    "s3_client = boto3.client('s3')"
   ]
  },
  {
   "cell_type": "code",
   "execution_count": 3,
   "metadata": {},
   "outputs": [],
   "source": [
    "#Inserindo os dados crus do Enem numa pasta raw-data\n",
    "s3_client.upload_file(\"data/MICRODADOS_ENEM_2019.csv\",\n",
    "                        \"datalake-joaopauloribeiro-703165468389\",\n",
    "                        \"raw-data/enem/MICRODADOS_ENEM_2019.csv\")"
   ]
  }
 ],
 "metadata": {
  "interpreter": {
   "hash": "f5ae38a19e60b990aa21cd87409ff8156633869ea0d6257fe7783dfcab29888b"
  },
  "kernelspec": {
   "display_name": "Python 3.6.5 ('base')",
   "language": "python",
   "name": "python3"
  },
  "language_info": {
   "codemirror_mode": {
    "name": "ipython",
    "version": 3
   },
   "file_extension": ".py",
   "mimetype": "text/x-python",
   "name": "python",
   "nbconvert_exporter": "python",
   "pygments_lexer": "ipython3",
   "version": "3.6.5"
  },
  "orig_nbformat": 4
 },
 "nbformat": 4,
 "nbformat_minor": 2
}
